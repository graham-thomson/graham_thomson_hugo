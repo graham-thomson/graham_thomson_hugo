{
 "cells": [
  {
   "cell_type": "markdown",
   "metadata": {},
   "source": [
    "## Plotting COVID19 Data in the US"
   ]
  },
  {
   "cell_type": "code",
   "execution_count": null,
   "metadata": {},
   "outputs": [],
   "source": [
    "%matplotlib inline\n",
    "import plotly.express as px\n",
    "import pandas as pd\n",
    "import numpy as np\n",
    "import plotly.io as pio\n",
    "import seaborn as sns\n",
    "import datetime as dt\n",
    "import matplotlib.pyplot as plt\n",
    "import requests\n",
    "from io import StringIO\n",
    "from IPython.display import Markdown\n",
    "sns.set()\n",
    "\n",
    "today = dt.datetime.now()\n",
    "\n",
    "states = pd.read_csv(\n",
    "    \"https://raw.githubusercontent.com/nytimes/covid-19-data/master/us-states.csv\", \n",
    "    header=0, \n",
    "    parse_dates=[\"date\"]\n",
    ")\n",
    "\n",
    "counties = pd.read_csv(\n",
    "    \"https://github.com/nytimes/covid-19-data/raw/master/us-counties.csv\", \n",
    "    header=0, \n",
    "    parse_dates=[\"date\"]\n",
    ").rename(columns={\"state\": \"state_name\"})"
   ]
  },
  {
   "cell_type": "markdown",
   "metadata": {},
   "source": [
    "### Summary Metrics"
   ]
  },
  {
   "cell_type": "code",
   "execution_count": null,
   "metadata": {},
   "outputs": [],
   "source": [
    "total_cases_deaths = states.groupby(\"state\").agg({\"cases\": \"max\", \"deaths\": \"max\"})\n",
    "\n",
    "Markdown(data=f\"\"\"\n",
    "## TOTAL US CASES: {total_cases_deaths['cases'].sum():,}\n",
    "\n",
    "## TOTAL US DEATHS: {total_cases_deaths['deaths'].sum():,}\n",
    "\n",
    "_latest data date: {states['date'].max()}_\n",
    "\n",
    "_updated on: {today}_\n",
    "\"\"\")"
   ]
  },
  {
   "cell_type": "markdown",
   "metadata": {},
   "source": [
    "### Time Series Cases/Deaths"
   ]
  },
  {
   "cell_type": "code",
   "execution_count": null,
   "metadata": {
    "scrolled": false
   },
   "outputs": [],
   "source": [
    "cases = px.line(\n",
    "    data_frame=states, \n",
    "    x=\"date\", \n",
    "    y=\"cases\", \n",
    "    color=\"state\", \n",
    "    line_group=\"state\", \n",
    "    hover_name=\"state\",\n",
    "    line_shape=\"spline\", \n",
    "    render_mode=\"svg\", \n",
    "    log_y=True\n",
    ")\n",
    "cases.update_layout(\n",
    "    title=f\"COVID-19 Cases by US State ({states['date'].min().date()} - {states['date'].max().date()})\"\n",
    ")\n",
    "pio.write_html(\n",
    "    cases, \n",
    "    file='../plots/cases_by_state.html', \n",
    "    auto_open=False\n",
    ")\n",
    "cases.show()"
   ]
  },
  {
   "cell_type": "code",
   "execution_count": null,
   "metadata": {},
   "outputs": [],
   "source": [
    "deaths = px.line(\n",
    "    data_frame=states, \n",
    "    x=\"date\", \n",
    "    y=\"deaths\", \n",
    "    color=\"state\", \n",
    "    line_group=\"state\", \n",
    "    hover_name=\"state\",\n",
    "    line_shape=\"spline\", \n",
    "    render_mode=\"svg\", \n",
    "    log_y=True\n",
    ")\n",
    "deaths.update_layout(\n",
    "    title=f\"COVID-19 Deaths by US State ({states['date'].min().date()} - {states['date'].max().date()})\"\n",
    ")\n",
    "pio.write_html(\n",
    "    deaths, \n",
    "    file='../plots/deaths_by_state.html', \n",
    "    auto_open=False\n",
    ")\n",
    "deaths.show()"
   ]
  },
  {
   "cell_type": "markdown",
   "metadata": {},
   "source": [
    "### Mapping Cases by County"
   ]
  },
  {
   "cell_type": "code",
   "execution_count": null,
   "metadata": {},
   "outputs": [],
   "source": [
    "# found this set of state names to abbreviations\n",
    "state_lookup = pd.read_csv(\n",
    "    \"https://raw.githubusercontent.com/jasonong/List-of-US-States/master/states.csv\"\n",
    ").rename(columns={\"State\": \"state_name\", \"Abbreviation\": \"state\"})\n",
    "state_lookup.head(1)"
   ]
  },
  {
   "cell_type": "code",
   "execution_count": null,
   "metadata": {
    "scrolled": true
   },
   "outputs": [],
   "source": [
    "# thanks obama\n",
    "county_lookup_data = StringIO(\n",
    "    requests.get(\"https://data.healthcare.gov/api/views/52wv-g36k/rows.csv?accessType=DOWNLOAD&sorting=true\")\\\n",
    "    .content.decode()\n",
    ")\n",
    "county_lookup = pd.read_csv(county_lookup_data)\n",
    "county_lookup.head(1)"
   ]
  },
  {
   "cell_type": "code",
   "execution_count": null,
   "metadata": {},
   "outputs": [],
   "source": [
    "# inner join will cause us to lose US territories etc.\n",
    "county_lookup = county_lookup.merge(state_lookup, on=\"state\", how=\"inner\")\n",
    "county_lookup.head(1)"
   ]
  },
  {
   "cell_type": "code",
   "execution_count": null,
   "metadata": {},
   "outputs": [],
   "source": [
    "# average lat logs by state\n",
    "state_lookup_mean = county_lookup.groupby([\"state_name\"])\\\n",
    ".agg({\"latitude\": \"mean\", \"longitude\": \"mean\"})\\\n",
    ".reset_index()"
   ]
  },
  {
   "cell_type": "code",
   "execution_count": null,
   "metadata": {},
   "outputs": [],
   "source": [
    "# average lat logs by county/state\n",
    "county_lookup_mean = county_lookup.groupby([\"county\", \"state_name\"])\\\n",
    ".agg({\"latitude\": \"mean\", \"longitude\": \"mean\"})\\\n",
    ".reset_index()"
   ]
  },
  {
   "cell_type": "code",
   "execution_count": null,
   "metadata": {},
   "outputs": [],
   "source": [
    "# get max cases (i.e. the most recent number)\n",
    "counties_total_cases = counties\\\n",
    ".groupby([\"county\", \"state_name\"])\\\n",
    ".agg({\"cases\": \"max\"})\\\n",
    ".reset_index()"
   ]
  },
  {
   "cell_type": "code",
   "execution_count": null,
   "metadata": {},
   "outputs": [],
   "source": [
    "# join to our county metadata\n",
    "lat_long_cases = counties_total_cases.merge(\n",
    "    county_lookup_mean, \n",
    "    on=[\"county\", \"state_name\"], \n",
    "    how=\"left\"\n",
    ").sort_values('state_name')\n",
    "\n",
    "for i in range(len(lat_long_cases)):\n",
    "    if lat_long_cases.loc[i, \"county\"] == \"Unknown\" and pd.isna(lat_long_cases.loc[i, \"latitude\"]):\n",
    "        i_state_name = lat_long_cases.loc[i, \"state_name\"]\n",
    "        if i_state_name in set(state_lookup_mean[\"state_name\"]):\n",
    "            lat_long_cases.loc[i, \"latitude\"] = \\\n",
    "                float(state_lookup_mean[state_lookup_mean[\"state_name\"] == i_state_name][\"latitude\"])\n",
    "            lat_long_cases.loc[i, \"longitude\"] = \\\n",
    "                float(state_lookup_mean[state_lookup_mean[\"state_name\"] == i_state_name][\"longitude\"])\n",
    "                \n",
    "def set_lat_long(county, state_name, lat, long):\n",
    "    lat_long_cases.loc[\n",
    "        (lat_long_cases[\"county\"] == county) & \n",
    "        (lat_long_cases[\"state_name\"] == state_name), \"latitude\"\n",
    "    ] = lat\n",
    "    lat_long_cases.loc[\n",
    "        (lat_long_cases[\"county\"] == county) & \n",
    "        (lat_long_cases[\"state_name\"] == state_name), \"longitude\"\n",
    "    ] = long\n",
    "    \n",
    "# set some by hand\n",
    "set_lat_long(\"New York City\", \"New York\", 40.7128072, -74.0056247)\n",
    "set_lat_long(\"Orleans\", \"Louisiana\", 30.0326996, -90.1627533)\n",
    "set_lat_long(\"Jefferson\", \"Louisiana\", 29.9589877, -90.203087)\n",
    "set_lat_long(\"DuPage\", \"Illinois\", 41.8398502, -88.2288021)\n",
    "set_lat_long(\"DeKalb\", \"Georgia\", 33.7929946, -84.3270541)\n",
    "set_lat_long(\"East Baton Rouge\", \"Louisiana\", 30.5161109, -91.2204589)\n",
    "set_lat_long(\"Baltimore city\", \"Maryland\", 39.2848183, -76.6905369)\n",
    "set_lat_long(\"Caddo\", \"Louisiana\", 32.6074573, -94.3130353)\n",
    "set_lat_long(\"Unknown\", \"Puerto Rico\", 18.2078371, -67.7072376)\n",
    "set_lat_long(\"St. Tammany\", \"Louisiana\", 30.4257161, -90.1605642)\n",
    "set_lat_long(\"St. Louis city\", \"Missouri\", 38.6532851, -90.383547)\n",
    "\n",
    "lat_long_cases.head(1)"
   ]
  },
  {
   "cell_type": "code",
   "execution_count": null,
   "metadata": {},
   "outputs": [],
   "source": [
    "# plot\n",
    "mapbox_token = \"pk.eyJ1IjoiZ3JhaGFtdGhvbXNvbiIsImEiOiJjaWt5ZWs1NTIwMTUydmZtM3Z0MWo2d3l5In0.BYOe1GOsZISNZFmqH8HzzQ\"\n",
    "px.set_mapbox_access_token(mapbox_token)\n",
    "\n",
    "county_map_plot = px.scatter_mapbox(\n",
    "    data_frame=lat_long_cases, \n",
    "    lat=\"latitude\", \n",
    "    lon=\"longitude\", \n",
    "    size=\"cases\", \n",
    "    color=\"state_name\", \n",
    "    hover_data=lat_long_cases.columns,\n",
    "    color_continuous_scale=px.colors.cyclical.Twilight, \n",
    "    size_max=40, \n",
    "    zoom=3\n",
    ")\n",
    "county_map_plot.update_layout(\n",
    "    title=f\"Total COVID-19 Cases by US County (as of {states['date'].max().date()})\"\n",
    ")\n",
    "pio.write_html(county_map_plot, file='../plots/counties_map.html', auto_open=False)\n",
    "county_map_plot.show()"
   ]
  }
 ],
 "metadata": {
  "kernelspec": {
   "display_name": "Python3 (sys)",
   "language": "python",
   "name": "python3"
  },
  "language_info": {
   "codemirror_mode": {
    "name": "ipython",
    "version": 3
   },
   "file_extension": ".py",
   "mimetype": "text/x-python",
   "name": "python",
   "nbconvert_exporter": "python",
   "pygments_lexer": "ipython3",
   "version": "3.6.4"
  }
 },
 "nbformat": 4,
 "nbformat_minor": 2
}
